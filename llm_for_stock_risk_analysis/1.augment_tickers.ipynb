{
 "cells": [
  {
   "cell_type": "code",
   "execution_count": 1,
   "id": "initial_id",
   "metadata": {
    "collapsed": true,
    "ExecuteTime": {
     "end_time": "2024-04-12T23:18:13.729274Z",
     "start_time": "2024-04-12T23:18:12.301593Z"
    }
   },
   "outputs": [
    {
     "name": "stdout",
     "output_type": "stream",
     "text": [
      "Requirement already satisfied: openai in /Users/maksimbober/anaconda3/envs/signal_research/lib/python3.10/site-packages (1.16.2)\r\n",
      "Collecting openai\r\n",
      "  Downloading openai-1.17.0-py3-none-any.whl.metadata (21 kB)\r\n",
      "Requirement already satisfied: python-dotenv in /Users/maksimbober/anaconda3/envs/signal_research/lib/python3.10/site-packages (1.0.1)\r\n",
      "Requirement already satisfied: anyio<5,>=3.5.0 in /Users/maksimbober/anaconda3/envs/signal_research/lib/python3.10/site-packages (from openai) (4.2.0)\r\n",
      "Requirement already satisfied: distro<2,>=1.7.0 in /Users/maksimbober/anaconda3/envs/signal_research/lib/python3.10/site-packages (from openai) (1.9.0)\r\n",
      "Requirement already satisfied: httpx<1,>=0.23.0 in /Users/maksimbober/anaconda3/envs/signal_research/lib/python3.10/site-packages (from openai) (0.27.0)\r\n",
      "Requirement already satisfied: pydantic<3,>=1.9.0 in /Users/maksimbober/anaconda3/envs/signal_research/lib/python3.10/site-packages (from openai) (1.10.14)\r\n",
      "Requirement already satisfied: sniffio in /Users/maksimbober/anaconda3/envs/signal_research/lib/python3.10/site-packages (from openai) (1.3.0)\r\n",
      "Requirement already satisfied: tqdm>4 in /Users/maksimbober/anaconda3/envs/signal_research/lib/python3.10/site-packages (from openai) (4.66.1)\r\n",
      "Requirement already satisfied: typing-extensions<5,>=4.7 in /Users/maksimbober/anaconda3/envs/signal_research/lib/python3.10/site-packages (from openai) (4.9.0)\r\n",
      "Requirement already satisfied: idna>=2.8 in /Users/maksimbober/anaconda3/envs/signal_research/lib/python3.10/site-packages (from anyio<5,>=3.5.0->openai) (3.4)\r\n",
      "Requirement already satisfied: exceptiongroup>=1.0.2 in /Users/maksimbober/anaconda3/envs/signal_research/lib/python3.10/site-packages (from anyio<5,>=3.5.0->openai) (1.2.0)\r\n",
      "Requirement already satisfied: certifi in /Users/maksimbober/anaconda3/envs/signal_research/lib/python3.10/site-packages (from httpx<1,>=0.23.0->openai) (2024.2.2)\r\n",
      "Requirement already satisfied: httpcore==1.* in /Users/maksimbober/anaconda3/envs/signal_research/lib/python3.10/site-packages (from httpx<1,>=0.23.0->openai) (1.0.5)\r\n",
      "Requirement already satisfied: h11<0.15,>=0.13 in /Users/maksimbober/anaconda3/envs/signal_research/lib/python3.10/site-packages (from httpcore==1.*->httpx<1,>=0.23.0->openai) (0.14.0)\r\n",
      "Downloading openai-1.17.0-py3-none-any.whl (268 kB)\r\n",
      "\u001B[2K   \u001B[90m━━━━━━━━━━━━━━━━━━━━━━━━━━━━━━━━━━━━━━━━\u001B[0m \u001B[32m268.3/268.3 kB\u001B[0m \u001B[31m1.9 MB/s\u001B[0m eta \u001B[36m0:00:00\u001B[0ma \u001B[36m0:00:01\u001B[0mm\r\n",
      "\u001B[?25hInstalling collected packages: openai\r\n",
      "  Attempting uninstall: openai\r\n",
      "    Found existing installation: openai 1.16.2\r\n",
      "    Uninstalling openai-1.16.2:\r\n",
      "      Successfully uninstalled openai-1.16.2\r\n",
      "Successfully installed openai-1.17.0\r\n"
     ]
    }
   ],
   "source": [
    "!pip install --upgrade openai python-dotenv scikit-learn"
   ]
  },
  {
   "cell_type": "markdown",
   "source": [
    "## Idea\n",
    "Fetch all symbols for TO exchange from Finnhub.io (free) then use OpenAi to add risks for each ticker."
   ],
   "metadata": {
    "collapsed": false
   },
   "id": "c0318b4e2285f7b7"
  },
  {
   "cell_type": "code",
   "execution_count": 8,
   "outputs": [],
   "source": [
    "from dotenv import dotenv_values\n",
    "import os\n",
    "import json\n",
    "from openai import OpenAI\n",
    "import requests\n",
    "from tqdm import tqdm\n",
    "\n",
    "config = dotenv_values(\".env\")"
   ],
   "metadata": {
    "collapsed": false,
    "ExecuteTime": {
     "end_time": "2024-04-17T00:59:55.319836Z",
     "start_time": "2024-04-17T00:59:55.196492Z"
    }
   },
   "id": "de3fe047ac8ce82d"
  },
  {
   "cell_type": "code",
   "execution_count": 5,
   "outputs": [],
   "source": [
    "client = OpenAI(api_key=config[\"OPEN_API_KEY\"])\n",
    "\n",
    "completion = client.chat.completions.create(\n",
    "    model=\"gpt-3.5-turbo\",\n",
    "    messages=[\n",
    "        {\"role\": \"system\",\n",
    "         \"content\": \"You are a stock analyst specializing in the analysis of risks and competitive advantages\"},\n",
    "        {\"role\": \"user\", \"content\": \"Tell me what I need to know about L.TO\"}\n",
    "    ]\n",
    ")"
   ],
   "metadata": {
    "collapsed": false,
    "ExecuteTime": {
     "end_time": "2024-04-12T23:20:14.481151Z",
     "start_time": "2024-04-12T23:20:08.378915Z"
    }
   },
   "id": "18be81f4eb0030b8"
  },
  {
   "cell_type": "code",
   "execution_count": 6,
   "outputs": [
    {
     "data": {
      "text/plain": "ChatCompletionMessage(content=\"L.TO is the stock symbol for Loblaw Companies Limited, a major Canadian food retailer. When analyzing the risks and competitive advantages of Loblaw Companies Limited, there are several key factors to consider:\\n\\n**Risks:**\\n1. **Competition**: Loblaw operates in a highly competitive market with other major retailers and discount stores. Increased competition can impact its market share and profitability.\\n2. **Regulatory Environment**: Changes in regulations related to food safety, labeling, or labor laws can present risks for Loblaw and impact its operational costs.\\n3. **Economic Factors**: Loblaw's business is sensitive to economic conditions that can affect consumer spending habits and overall demand for its products.\\n4. **Supply Chain Disruptions**: Any disruptions in the supply chain, whether due to natural disasters, trade issues, or other factors, can impact Loblaw's ability to meet consumer demand and affect its financial performance.\\n5. **Online Retail**: The growth of online shopping and e-commerce platforms presents a risk to traditional brick-and-mortar retailers like Loblaw if they are unable to effectively compete in the digital space.\\n\\n**Competitive Advantages:**\\n1. **Brand Recognition**: Loblaw's established brand and reputation in the Canadian market give it a competitive advantage over newer entrants and smaller competitors.\\n2. **Diverse Product Portfolio**: Loblaw offers a wide range of products including groceries, pharmacy items, clothing, and household goods, which helps attract a broad customer base and strengthen its competitive position.\\n3. **Supply Chain Efficiency**: Efficient supply chain management and distribution networks enable Loblaw to optimize its inventory levels, reduce costs, and respond quickly to changing market conditions.\\n4. **Loyalty Programs**: Loblaw's loyalty programs, such as PC Optimum, help retain customers and encourage repeat purchases, enhancing customer loyalty and driving sales.\\n5. **Strategic Partnerships**: Collaborations with suppliers, farmers, and other stakeholders help Loblaw secure reliable sources of products, maintain quality standards, and strengthen its competitive position in the market.\\n\\nBy considering these risks and competitive advantages, you can better understand the factors influencing Loblaw's performance and make informed investment decisions.\", role='assistant', function_call=None, tool_calls=None)"
     },
     "execution_count": 6,
     "metadata": {},
     "output_type": "execute_result"
    }
   ],
   "source": [
    "completion.choices[0].message"
   ],
   "metadata": {
    "collapsed": false,
    "ExecuteTime": {
     "end_time": "2024-04-12T23:20:16.917646Z",
     "start_time": "2024-04-12T23:20:16.912731Z"
    }
   },
   "id": "bca121c9790237f7"
  },
  {
   "cell_type": "code",
   "execution_count": 9,
   "outputs": [],
   "source": [
    "# Using Finnhub to fetch all symbols\n",
    "# this endpoint is free, but requires registration\n",
    "data = requests.get(f\"https://finnhub.io/api/v1/stock/symbol?exchange=TO&token={config['FINNHUB_TOKEN']}\")"
   ],
   "metadata": {
    "collapsed": false,
    "ExecuteTime": {
     "end_time": "2024-04-17T01:00:02.192237Z",
     "start_time": "2024-04-17T00:59:59.087120Z"
    }
   },
   "id": "e4f2f72a4736a8d9"
  },
  {
   "cell_type": "code",
   "execution_count": 18,
   "outputs": [
    {
     "data": {
      "text/plain": "{'currency': 'CAD',\n 'description': 'VANGUARD US DIVIDEND APPRECI',\n 'displaySymbol': 'VGG.TO',\n 'figi': 'BBG004Z0DYT2',\n 'isin': None,\n 'mic': 'XTSE',\n 'shareClassFIGI': 'BBG004Z0DYQ5',\n 'symbol': 'VGG.TO',\n 'symbol2': '',\n 'type': 'ETP'}"
     },
     "execution_count": 18,
     "metadata": {},
     "output_type": "execute_result"
    }
   ],
   "source": [
    "symbols = data.json()\n",
    "symbols[0]"
   ],
   "metadata": {
    "collapsed": false,
    "ExecuteTime": {
     "end_time": "2024-04-06T02:18:05.014502Z",
     "start_time": "2024-04-06T02:18:05.008914Z"
    }
   },
   "id": "aa242e32b4c389e8"
  },
  {
   "cell_type": "code",
   "execution_count": 100,
   "outputs": [
    {
     "name": "stderr",
     "output_type": "stream",
     "text": [
      "100%|██████████| 2600/2600 [1:13:01<00:00,  1.69s/it]\n"
     ]
    }
   ],
   "source": [
    "data_dir = \"data/\"\n",
    "result = []\n",
    "\n",
    "if not os.path.exists(data_dir):\n",
    "    os.makedirs(data_dir)\n",
    "\n",
    "for symbol in tqdm(symbols):\n",
    "    completion = client.chat.completions.create(\n",
    "        model=\"gpt-3.5-turbo\",\n",
    "        messages=[\n",
    "            {\"role\": \"system\",\n",
    "             \"content\": \"You are a stock analyst specializing in the analysis of risks and competitive advantages. You will be giving response in json format. JSON output will have the following fields description, competitive advantage, product, and risks. Description will explain what a company does. Competitive advantage is a list of advantages. Product will have one value which tells what's the company is producing. Risks is going to be a list of risks.\"},\n",
    "            {\"role\": \"user\", \"content\": f\"Tell me what I need to know about '{symbol['description']}'\"}\n",
    "        ]\n",
    "    )\n",
    "    if not os.path.exists(data_dir):\n",
    "        os.makedirs(data_dir)\n",
    "\n",
    "    file_path = os.path.join(data_dir, symbol[\"symbol\"])\n",
    "\n",
    "    data = completion.choices[0].message.content\n",
    "    # Write your dictionary to a file\n",
    "    with open(file_path, 'w') as f:\n",
    "        json.dump(data, f)\n",
    "        result.append(completion)"
   ],
   "metadata": {
    "collapsed": false,
    "ExecuteTime": {
     "end_time": "2024-04-06T04:28:51.657964Z",
     "start_time": "2024-04-06T03:15:50.471299Z"
    }
   },
   "id": "1cb3991e1560ee19"
  },
  {
   "cell_type": "code",
   "execution_count": 74,
   "outputs": [
    {
     "data": {
      "text/plain": "{'currency': 'CAD',\n 'description': 'MF MULTIFAC EMER MER INDE ET',\n 'displaySymbol': 'MEME.B.TO',\n 'figi': 'BBG00MRS6BB7',\n 'isin': None,\n 'mic': 'XTSE',\n 'shareClassFIGI': 'BBG00MRS6C98',\n 'symbol': 'MEME.B.TO',\n 'symbol2': '',\n 'type': 'ETP'}"
     },
     "execution_count": 74,
     "metadata": {},
     "output_type": "execute_result"
    }
   ],
   "source": [
    "symbols[1]"
   ],
   "metadata": {
    "collapsed": false,
    "ExecuteTime": {
     "end_time": "2024-04-06T03:03:30.063613Z",
     "start_time": "2024-04-06T03:03:30.057480Z"
    }
   },
   "id": "8a994e2af2c71f6a"
  },
  {
   "cell_type": "markdown",
   "source": [
    "### Note:\n",
    "- I've checked manually for hallucination couple of stocks at random. I haven't noticed any issues, so I assume that the resulting risks don't contain large amounts of hallucinations."
   ],
   "metadata": {
    "collapsed": false
   },
   "id": "67b5b07c85adca5e"
  },
  {
   "cell_type": "code",
   "execution_count": null,
   "outputs": [],
   "source": [],
   "metadata": {
    "collapsed": false
   },
   "id": "da9e4948242309ab"
  }
 ],
 "metadata": {
  "kernelspec": {
   "display_name": "Python 3",
   "language": "python",
   "name": "python3"
  },
  "language_info": {
   "codemirror_mode": {
    "name": "ipython",
    "version": 2
   },
   "file_extension": ".py",
   "mimetype": "text/x-python",
   "name": "python",
   "nbconvert_exporter": "python",
   "pygments_lexer": "ipython2",
   "version": "2.7.6"
  }
 },
 "nbformat": 4,
 "nbformat_minor": 5
}
